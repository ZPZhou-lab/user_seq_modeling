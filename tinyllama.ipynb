{
 "cells": [
  {
   "cell_type": "code",
   "execution_count": 1,
   "metadata": {},
   "outputs": [],
   "source": [
    "import os\n",
    "os.environ['PYTORCH_ENABLE_MPS_FALLBACK'] = '1'\n",
    "from transformers import AutoTokenizer, AutoModelForCausalLM\n",
    "from transformers.models.llama.modeling_llama import LlamaModel, LlamaForCausalLM\n",
    "import torch\n",
    "from torch import nn\n",
    "from typing import Optional, Dict, Any, List, Union\n",
    "from user_seq_modeling.hllm import EventEncoder, GenerativeInfoNCELoss"
   ]
  },
  {
   "cell_type": "code",
   "execution_count": 2,
   "metadata": {},
   "outputs": [],
   "source": [
    "model_path = '/Users/zhouzhipeng/llm_models/TinyLlama-1.1B-3T'\n",
    "encoder = EventEncoder(model_path)"
   ]
  },
  {
   "cell_type": "code",
   "execution_count": 3,
   "metadata": {},
   "outputs": [],
   "source": [
    "events_1 = [\n",
    "    \"用户在借呗申请支用了 100 元，还款方式选择先息后本\",\n",
    "    \"用户在花呗提前还款了 200 元\",\n",
    "    \"用户在借呗申请支用了 300 元，还款方式选择等额本息\",\n",
    "    \"用户在借呗到期还款了 400 元\"\n",
    "]\n",
    "events_2 = [\n",
    "    \"用户在借呗申请支用了 100 元，还款方式选择先息后本\",\n",
    "    \"用户在花呗提前还款了 200 元\",\n",
    "    \"用户在借呗申请支用了 300 元，还款方式选择等额本息\",\n",
    "    \"用户在借呗到期还款了 400 元\",\n",
    "    \"用户在网商银行贷款申请支用 500 元\",\n",
    "    \"用户在备用金申请支用了 600 元，还款方式选择等额本息\"\n",
    "]"
   ]
  },
  {
   "cell_type": "code",
   "execution_count": 4,
   "metadata": {},
   "outputs": [
    {
     "name": "stderr",
     "output_type": "stream",
     "text": [
      "You're using a LlamaTokenizerFast tokenizer. Please note that with a fast tokenizer, using the `__call__` method is faster than using a method to encode the text followed by a call to the `pad` method to get a padded encoding.\n"
     ]
    }
   ],
   "source": [
    "hidden_states, attention_mask = encoder([events_1, events_2])"
   ]
  },
  {
   "cell_type": "code",
   "execution_count": 5,
   "metadata": {},
   "outputs": [
    {
     "data": {
      "text/plain": [
       "tensor([[0, 0, 1, 1, 1, 1],\n",
       "        [1, 1, 1, 1, 1, 1]], device='mps:0')"
      ]
     },
     "execution_count": 5,
     "metadata": {},
     "output_type": "execute_result"
    }
   ],
   "source": [
    "attention_mask"
   ]
  },
  {
   "cell_type": "code",
   "execution_count": 6,
   "metadata": {},
   "outputs": [
    {
     "data": {
      "text/plain": [
       "(torch.bfloat16, device(type='mps', index=0))"
      ]
     },
     "execution_count": 6,
     "metadata": {},
     "output_type": "execute_result"
    }
   ],
   "source": [
    "user_model = AutoModelForCausalLM.from_pretrained(\n",
    "    model_path,\n",
    "    torch_dtype=torch.bfloat16,\n",
    "    device_map=\"auto\",\n",
    "    trust_remote_code=True\n",
    ")\n",
    "user_model.dtype, user_model.device"
   ]
  },
  {
   "cell_type": "code",
   "execution_count": 13,
   "metadata": {},
   "outputs": [],
   "source": [
    "outputs = user_model.base_model(\n",
    "    inputs_embeds=hidden_states,\n",
    "    attention_mask=attention_mask,\n",
    "    use_cache=False,\n",
    ")"
   ]
  },
  {
   "cell_type": "code",
   "execution_count": 20,
   "metadata": {},
   "outputs": [
    {
     "data": {
      "text/plain": [
       "(torch.Size([2, 6, 2048]), torch.Size([2, 6, 2048]))"
      ]
     },
     "execution_count": 20,
     "metadata": {},
     "output_type": "execute_result"
    }
   ],
   "source": [
    "event_embeddings = hidden_states\n",
    "encoder_outputs = outputs.last_hidden_state\n",
    "event_embeddings.shape, encoder_outputs.shape"
   ]
  },
  {
   "cell_type": "code",
   "execution_count": 26,
   "metadata": {},
   "outputs": [],
   "source": [
    "from torch.nn import functional as F"
   ]
  },
  {
   "cell_type": "code",
   "execution_count": 49,
   "metadata": {},
   "outputs": [
    {
     "data": {
      "text/plain": [
       "torch.Size([2, 32, 1])"
      ]
     },
     "execution_count": 49,
     "metadata": {},
     "output_type": "execute_result"
    }
   ],
   "source": [
    "cur_embs = torch.randn(size=(2, 32, 128))\n",
    "target_pos = torch.randn(size=(2, 32, 128))\n",
    "output_embs = cur_embs / cur_embs.norm(dim=-1, keepdim=True)\n",
    "target_pos_embs = target_pos / target_pos.norm(dim=-1, keepdim=True)\n",
    "pos_logits = F.cosine_similarity(output_embs, target_pos_embs, dim=-1).unsqueeze(-1)\n",
    "pos_logits.shape"
   ]
  },
  {
   "cell_type": "code",
   "execution_count": 50,
   "metadata": {},
   "outputs": [],
   "source": [
    "neg_embedding_all = torch.randn(size=(64, 128)) # [num, dim]\n",
    "neg_embedding_all = neg_embedding_all.transpose(-1, -2)\n",
    "neg_logits = torch.matmul(output_embs, neg_embedding_all)\n",
    "fix_logits = torch.matmul(target_pos_embs, neg_embedding_all)\n",
    "neg_logits[fix_logits > 0.99] = torch.finfo(neg_logits.dtype).min\n",
    "logits = torch.cat([pos_logits, neg_logits], dim=-1)\n",
    "user_attention_mask = torch.ones(size=(2, 32), dtype=torch.long)\n",
    "logits = logits[user_attention_mask.bool()] * 1\n",
    "labels = torch.zeros(logits.size(0), device=logits.device, dtype=torch.int64)\n",
    "# neg_logits[fix_logits > self.nce_thres] = torch.finfo(neg_logits.dtype).min"
   ]
  },
  {
   "cell_type": "code",
   "execution_count": 51,
   "metadata": {},
   "outputs": [
    {
     "data": {
      "text/plain": [
       "(torch.Size([64, 65]), torch.Size([64]))"
      ]
     },
     "execution_count": 51,
     "metadata": {},
     "output_type": "execute_result"
    }
   ],
   "source": [
    "logits.shape, labels.shape"
   ]
  },
  {
   "cell_type": "code",
   "execution_count": 52,
   "metadata": {},
   "outputs": [
    {
     "data": {
      "text/plain": [
       "tensor([[True, True, True, True, True, True, True, True, True, True, True, True,\n",
       "         True, True, True, True, True, True, True, True, True, True, True, True,\n",
       "         True, True, True, True, True, True, True, True],\n",
       "        [True, True, True, True, True, True, True, True, True, True, True, True,\n",
       "         True, True, True, True, True, True, True, True, True, True, True, True,\n",
       "         True, True, True, True, True, True, True, True]])"
      ]
     },
     "execution_count": 52,
     "metadata": {},
     "output_type": "execute_result"
    }
   ],
   "source": [
    "user_attention_mask.bool()"
   ]
  },
  {
   "cell_type": "code",
   "execution_count": 37,
   "metadata": {},
   "outputs": [
    {
     "data": {
      "text/plain": [
       "-3.4028234663852886e+38"
      ]
     },
     "execution_count": 37,
     "metadata": {},
     "output_type": "execute_result"
    }
   ],
   "source": [
    "torch.finfo(neg_logits.dtype).min"
   ]
  },
  {
   "cell_type": "code",
   "execution_count": 54,
   "metadata": {},
   "outputs": [],
   "source": [
    "cu_input_lens = torch.tensor([\n",
    "    [4, 6, 9],\n",
    "    [2, 4, 5]\n",
    "])"
   ]
  },
  {
   "cell_type": "code",
   "execution_count": 56,
   "metadata": {},
   "outputs": [
    {
     "data": {
      "text/plain": [
       "tensor([[ 4,  6,  9],\n",
       "        [ 6, 10, 14]])"
      ]
     },
     "execution_count": 56,
     "metadata": {},
     "output_type": "execute_result"
    }
   ],
   "source": [
    "cu_input_lens.cumsum(dim=0)"
   ]
  },
  {
   "cell_type": "code",
   "execution_count": null,
   "metadata": {},
   "outputs": [],
   "source": [
    "cu_input_lens"
   ]
  },
  {
   "cell_type": "code",
   "execution_count": 21,
   "metadata": {},
   "outputs": [],
   "source": [
    "loss_func = GenerativeInfoNCELoss(temperature=1.0)"
   ]
  },
  {
   "cell_type": "code",
   "execution_count": 22,
   "metadata": {},
   "outputs": [
    {
     "data": {
      "text/plain": [
       "tensor(18.3851, grad_fn=<NllLossBackward0>)"
      ]
     },
     "execution_count": 22,
     "metadata": {},
     "output_type": "execute_result"
    }
   ],
   "source": [
    "encoder_outputs = torch.randn(size=(16, 32, 128))\n",
    "event_embeddings = torch.randn(size=(16, 32, 128))\n",
    "loss_func(encoder_outputs, event_embeddings)"
   ]
  },
  {
   "cell_type": "code",
   "execution_count": 25,
   "metadata": {},
   "outputs": [
    {
     "data": {
      "text/plain": [
       "(-3.3895313892515355e+38, 3.4028234663852886e+38)"
      ]
     },
     "execution_count": 25,
     "metadata": {},
     "output_type": "execute_result"
    }
   ],
   "source": [
    "torch.finfo(torch.bfloat16).min, torch.finfo(torch.float32).max"
   ]
  },
  {
   "cell_type": "code",
   "execution_count": 31,
   "metadata": {},
   "outputs": [],
   "source": [
    "tokenizer = AutoTokenizer.from_pretrained(model_path, trust_remote_code=True)\n",
    "tokenizer.add_special_tokens({'pad_token': '[PAD]'})\n",
    "tokenizer.add_tokens('[EVENT]', special_tokens=True)\n",
    "tokenizer.padding_side = \"left\""
   ]
  },
  {
   "cell_type": "code",
   "execution_count": 33,
   "metadata": {},
   "outputs": [
    {
     "data": {
      "text/plain": [
       "{'input_ids': tensor([[32000, 32000, 32000, 32000, 32000, 32000, 32000, 32000, 32000, 32000,\n",
       "         32000, 32000, 32000, 32000, 32000, 32000, 32000, 32000, 32000, 32000,\n",
       "         32000, 32000, 32000, 32000,     1, 29871, 29896,   718, 29871, 29896,\n",
       "           353, 29871]], device='mps:0'), 'attention_mask': tensor([[0, 0, 0, 0, 0, 0, 0, 0, 0, 0, 0, 0, 0, 0, 0, 0, 0, 0, 0, 0, 0, 0, 0, 0,\n",
       "         1, 1, 1, 1, 1, 1, 1, 1]], device='mps:0')}"
      ]
     },
     "execution_count": 33,
     "metadata": {},
     "output_type": "execute_result"
    }
   ],
   "source": [
    "text = \"用户在借呗支用申请了 1000 元\"\n",
    "text = \"1 + 1 = \"\n",
    "inputs = tokenizer(\n",
    "    [text], return_tensors=\"pt\",\n",
    "    padding='max_length', max_length=32\n",
    ").to(user_model.device)\n",
    "inputs"
   ]
  },
  {
   "cell_type": "code",
   "execution_count": 9,
   "metadata": {},
   "outputs": [
    {
     "data": {
      "text/plain": [
       "'1 + 1 = 2\\n\\n    # 1 + 1 = 2\\n    # 1 + 2 = 3\\n    # 2 + 3 = 5\\n    # 3 + 5 = 8\\n    # 5 + 8 = 13\\n    # 13'"
      ]
     },
     "execution_count": 9,
     "metadata": {},
     "output_type": "execute_result"
    }
   ],
   "source": [
    "output_ids = model.generate(**inputs, max_new_tokens=64)\n",
    "tokenizer.decode(output_ids[0], skip_special_tokens=True)"
   ]
  },
  {
   "cell_type": "code",
   "execution_count": 8,
   "metadata": {},
   "outputs": [
    {
     "data": {
      "text/plain": [
       "torch.Size([32000, 2048])"
      ]
     },
     "execution_count": 8,
     "metadata": {},
     "output_type": "execute_result"
    }
   ],
   "source": [
    "model.get_output_embeddings().weight.shape"
   ]
  },
  {
   "cell_type": "code",
   "execution_count": 9,
   "metadata": {},
   "outputs": [
    {
     "data": {
      "text/plain": [
       "torch.Size([32000, 2048])"
      ]
     },
     "execution_count": 9,
     "metadata": {},
     "output_type": "execute_result"
    }
   ],
   "source": [
    "model.get_input_embeddings().weight.shape"
   ]
  },
  {
   "cell_type": "code",
   "execution_count": 11,
   "metadata": {},
   "outputs": [
    {
     "data": {
      "text/plain": [
       "ModuleList(\n",
       "  (0-21): 22 x LlamaDecoderLayer(\n",
       "    (self_attn): LlamaSdpaAttention(\n",
       "      (q_proj): Linear(in_features=2048, out_features=2048, bias=False)\n",
       "      (k_proj): Linear(in_features=2048, out_features=256, bias=False)\n",
       "      (v_proj): Linear(in_features=2048, out_features=256, bias=False)\n",
       "      (o_proj): Linear(in_features=2048, out_features=2048, bias=False)\n",
       "      (rotary_emb): LlamaRotaryEmbedding()\n",
       "    )\n",
       "    (mlp): LlamaMLP(\n",
       "      (gate_proj): Linear(in_features=2048, out_features=5632, bias=False)\n",
       "      (up_proj): Linear(in_features=2048, out_features=5632, bias=False)\n",
       "      (down_proj): Linear(in_features=5632, out_features=2048, bias=False)\n",
       "      (act_fn): SiLU()\n",
       "    )\n",
       "    (input_layernorm): LlamaRMSNorm((2048,), eps=1e-05)\n",
       "    (post_attention_layernorm): LlamaRMSNorm((2048,), eps=1e-05)\n",
       "  )\n",
       ")"
      ]
     },
     "execution_count": 11,
     "metadata": {},
     "output_type": "execute_result"
    }
   ],
   "source": [
    "model.model.layers"
   ]
  },
  {
   "cell_type": "code",
   "execution_count": 13,
   "metadata": {},
   "outputs": [
    {
     "data": {
      "text/plain": [
       "Embedding(32000, 2048)"
      ]
     },
     "execution_count": 13,
     "metadata": {},
     "output_type": "execute_result"
    }
   ],
   "source": [
    "model.model.embed_tokens"
   ]
  },
  {
   "cell_type": "code",
   "execution_count": 93,
   "metadata": {},
   "outputs": [
    {
     "data": {
      "text/plain": [
       "torch.Size([1, 32, 2048])"
      ]
     },
     "execution_count": 93,
     "metadata": {},
     "output_type": "execute_result"
    }
   ],
   "source": [
    "embed = model.model.embed_tokens(inputs['input_ids'])\n",
    "embed.shape"
   ]
  },
  {
   "cell_type": "code",
   "execution_count": 95,
   "metadata": {},
   "outputs": [
    {
     "data": {
      "text/plain": [
       "LlamaRotaryEmbedding()"
      ]
     },
     "execution_count": 95,
     "metadata": {},
     "output_type": "execute_result"
    }
   ],
   "source": [
    "model.model.rotary_emb"
   ]
  },
  {
   "cell_type": "code",
   "execution_count": 115,
   "metadata": {},
   "outputs": [],
   "source": [
    "decoder_outputs = model.model(inputs_embeds=embed, attention_mask=inputs['attention_mask'])"
   ]
  },
  {
   "cell_type": "code",
   "execution_count": 120,
   "metadata": {},
   "outputs": [
    {
     "data": {
      "text/plain": [
       "tensor([[[ 0.6968,  1.4873,  3.3672,  ...,  2.0156,  2.9414, -0.3071],\n",
       "         [ 1.1699,  1.9434,  3.5449,  ...,  1.9336,  1.8779,  0.1746],\n",
       "         [ 1.7412,  2.2168,  1.3965,  ...,  1.3164,  2.8262, -0.3462],\n",
       "         ...,\n",
       "         [-0.6997,  1.9951,  0.5986,  ...,  0.0276,  2.1426, -0.1182],\n",
       "         [-1.3799,  0.8369, -0.3835,  ...,  1.2031,  2.2344, -1.3838],\n",
       "         [-1.1445,  1.5146,  0.8105,  ...,  0.1543,  1.5947, -0.6475]]],\n",
       "       device='mps:0', dtype=torch.float16, grad_fn=<SliceBackward0>)"
      ]
     },
     "execution_count": 120,
     "metadata": {},
     "output_type": "execute_result"
    }
   ],
   "source": [
    "decoder_outputs['last_hidden_state'][0:10]"
   ]
  },
  {
   "cell_type": "code",
   "execution_count": 121,
   "metadata": {},
   "outputs": [
    {
     "data": {
      "text/plain": [
       "tensor([[[ 0.6968,  1.4873,  3.3672,  ...,  2.0156,  2.9414, -0.3071],\n",
       "         [ 1.1699,  1.9434,  3.5449,  ...,  1.9336,  1.8779,  0.1746],\n",
       "         [ 1.7412,  2.2168,  1.3965,  ...,  1.3164,  2.8262, -0.3462],\n",
       "         ...,\n",
       "         [-0.6997,  1.9951,  0.5986,  ...,  0.0276,  2.1426, -0.1182],\n",
       "         [-1.3799,  0.8369, -0.3835,  ...,  1.2031,  2.2344, -1.3838],\n",
       "         [-1.1445,  1.5146,  0.8105,  ...,  0.1543,  1.5947, -0.6475]]],\n",
       "       device='mps:0', dtype=torch.float16, grad_fn=<SliceBackward0>)"
      ]
     },
     "execution_count": 121,
     "metadata": {},
     "output_type": "execute_result"
    }
   ],
   "source": [
    "model.model(input_ids=inputs['input_ids'], attention_mask=inputs['attention_mask']).last_hidden_state[0:10]"
   ]
  },
  {
   "cell_type": "code",
   "execution_count": 146,
   "metadata": {},
   "outputs": [],
   "source": [
    "from matplotlib import pyplot as plt\n",
    "import numpy as np\n",
    "from sklearn.ensemble import GradientBoostingRegressor\n",
    "from sklearn.linear_model import QuantileRegressor"
   ]
  },
  {
   "cell_type": "code",
   "execution_count": 26,
   "metadata": {},
   "outputs": [],
   "source": [
    "seq_cuts = np.linspace(0, 1, 101)\n",
    "seq_lens = [1, 1, 1, 1, 1, 1, 1, 1, 1, 1, 1, 1, 1, 2, 2, 2, 2, 2, 2, 2, 2, 2, 2, 2, 2, 2, 2, 2, 2, 2, 2, 2, 2, 2, 2, 2, 2, 2, 2, 2, 2, 2, 3, 3, 3, 3, 3, 3, 3, 3, 3, 3, 3, 3, 3, 3.615070280198076, 4, 4, 4, 4, 4, 4, 4, 4, 4, 4, 5, 5, 5, 5, 5, 5, 5, 6, 6, 6, 6, 6, 7, 7, 7, 7, 8, 8, 8, 9, 9, 10, 10, 11, 12, 12, 13, 14, 16, 17, 19, 22, 26, 37, 45869]"
   ]
  },
  {
   "cell_type": "code",
   "execution_count": 31,
   "metadata": {},
   "outputs": [
    {
     "data": {
      "image/png": "[encoded data removed]",
      "text/plain": [
       "<Figure size 700x300 with 2 Axes>"
      ]
     },
     "metadata": {},
     "output_type": "display_data"
    }
   ],
   "source": [
    "fig, ax = plt.subplots(1, 2, figsize=(7, 3))\n",
    "# seq_lens vs seq_cuts\n",
    "ax[0].plot(seq_cuts[1:-1], seq_lens[1:-1])\n",
    "# seq_cuts vs seq_lens\n",
    "ax[1].plot(seq_lens[1:-1], seq_cuts[1:-1])\n",
    "plt.tight_layout()"
   ]
  },
  {
   "cell_type": "code",
   "execution_count": 151,
   "metadata": {},
   "outputs": [],
   "source": [
    "x = np.random.uniform(low=-3, high=3, size=(1000,))\n",
    "# h-sigma model, sigma(x) = 1 + exp(-|x|)\n",
    "# logit model, logit = (x + 1) * x * (x - 1)\n",
    "sigma = 0.2 + np.exp(np.abs(1*x))\n",
    "noise = np.random.normal(loc=0, scale=sigma, size=(1000,))\n",
    "y = (x + 2) * x * (x - 1) + noise\n",
    "x_concat = np.concatenate([x.reshape(-1, 1), x.reshape(-1, 1)**2, x.reshape(-1, 1)**3], axis=1)"
   ]
  },
  {
   "cell_type": "code",
   "execution_count": 156,
   "metadata": {},
   "outputs": [],
   "source": [
    "model = GradientBoostingRegressor(n_estimators=100, learning_rate=0.1, max_depth=5)\n",
    "model.fit(x.reshape(-1, 1), y)\n",
    "lower = QuantileRegressor(quantile=0.05, alpha=0).fit(x_concat, y)\n",
    "upper = QuantileRegressor(quantile=0.95, alpha=0).fit(x_concat, y)\n",
    "y_pred = model.predict(x.reshape(-1, 1))\n",
    "y_lower = lower.predict(x_concat)\n",
    "y_upper = upper.predict(x_concat)\n",
    "err = y - y_pred"
   ]
  },
  {
   "cell_type": "code",
   "execution_count": 161,
   "metadata": {},
   "outputs": [
    {
     "data": {
      "image/png": "[encoded data removed]",
      "text/plain": [
       "<Figure size 700x300 with 2 Axes>"
      ]
     },
     "metadata": {},
     "output_type": "display_data"
    }
   ],
   "source": [
    "fig, ax = plt.subplots(1,2,figsize=(7, 3))\n",
    "ax[0].scatter(x, y, alpha=0.5)\n",
    "ax[0].scatter(x, y_pred, alpha=0.5)\n",
    "ax[0].scatter(x, y_lower, alpha=0.5, s=1)\n",
    "ax[0].scatter(x, y_upper, alpha=0.5, s=1)\n",
    "ax[1].scatter(x, err, alpha=0.5)\n",
    "plt.tight_layout()"
   ]
  },
  {
   "cell_type": "code",
   "execution_count": null,
   "metadata": {},
   "outputs": [],
   "source": []
  }
 ],
 "metadata": {
  "kernelspec": {
   "display_name": "llm",
   "language": "python",
   "name": "python3"
  },
  "language_info": {
   "codemirror_mode": {
    "name": "ipython",
    "version": 3
   },
   "file_extension": ".py",
   "mimetype": "text/x-python",
   "name": "python",
   "nbconvert_exporter": "python",
   "pygments_lexer": "ipython3",
   "version": "3.10.14"
  }
 },
 "nbformat": 4,
 "nbformat_minor": 2
}
